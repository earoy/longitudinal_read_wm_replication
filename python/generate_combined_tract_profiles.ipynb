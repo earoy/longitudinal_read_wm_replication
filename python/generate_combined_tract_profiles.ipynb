{
 "cells": [
  {
   "cell_type": "code",
   "execution_count": 1,
   "id": "0a83ff3c",
   "metadata": {},
   "outputs": [
    {
     "name": "stderr",
     "output_type": "stream",
     "text": [
      "/home/groups/jyeatman/software/ethanroy/envs/pyafq_eng/lib/python3.9/site-packages/tqdm/auto.py:21: TqdmWarning: IProgress not found. Please update jupyter and ipywidgets. See https://ipywidgets.readthedocs.io/en/stable/user_install.html\n",
      "  from .autonotebook import tqdm as notebook_tqdm\n"
     ]
    }
   ],
   "source": [
    "import numpy as np\n",
    "import os.path as op\n",
    "import pandas as pd\n",
    "import plotly\n",
    "import seaborn as sns\n",
    "\n",
    "from AFQ.api.group import GroupAFQ"
   ]
  },
  {
   "cell_type": "code",
   "execution_count": 4,
   "id": "c909e97b",
   "metadata": {},
   "outputs": [],
   "source": [
    "pyafq_output_path = \"/scratch/users/ethanroy/longitudinal_vanderbilt_colab/input_fmap_rev/derivatives/qsirecon\""
   ]
  },
  {
   "cell_type": "code",
   "execution_count": 2,
   "id": "f17e30fb",
   "metadata": {},
   "outputs": [],
   "source": [
    "## Helper Functions from:\n",
    "## https://github.com/yeatmanlab/pyAFQ/blob/19fe6cd732601879f556d814218acafe365138f8/AFQ/api/group.py\n",
    "\n",
    "def combine_list_of_profiles(profile_fnames):\n",
    "    \"\"\"\n",
    "    Combine tract profiles from different subjects / sessions\n",
    "    into one CSV.\n",
    "    Parameters\n",
    "    ----------\n",
    "    profile_fnames : list of str\n",
    "        List of csv filenames.\n",
    "    Returns\n",
    "    -------\n",
    "    Ouput CSV's pandas dataframe.\n",
    "    \"\"\"\n",
    "    dfs = []\n",
    "    for fname in profile_fnames:\n",
    "        profiles = pd.read_csv(fname)\n",
    "        profiles['subjectID'] = fname.split('sub-')[1].split('/')[0][:-4]\n",
    "        if 'ses' in fname:\n",
    "            session_name = fname.split('ses')[1].split('/')[0]\n",
    "        else:\n",
    "            session_name = 'unknown'\n",
    "        profiles['sessionID'] = session_name\n",
    "        dfs.append(profiles)\n",
    "\n",
    "    return clean_pandas_df(pd.concat(dfs))\n",
    "\n",
    "# get rid of unnecessary columns in df\n",
    "def clean_pandas_df(df):\n",
    "    df = df.reset_index(drop=True)\n",
    "    df = df.loc[:, ~df.columns.str.contains('^Unnamed')]\n",
    "    return df"
   ]
  },
  {
   "cell_type": "code",
   "execution_count": 5,
   "id": "6a0e3079",
   "metadata": {},
   "outputs": [],
   "source": [
    "import glob\n",
    "\n",
    "tract_profiles_csv = []\n",
    "\n",
    "for f in glob.glob(op.join(pyafq_output_path,'**/*-AFQ_desc-profiles_dwi.csv'), recursive=True):\n",
    "    tract_profiles_csv.append(f)\n",
    "    "
   ]
  },
  {
   "cell_type": "code",
   "execution_count": 34,
   "id": "8ace29b6",
   "metadata": {},
   "outputs": [],
   "source": [
    "combined_profiles_df = combine_list_of_profiles(tract_profiles_csv)\n"
   ]
  },
  {
   "cell_type": "code",
   "execution_count": 35,
   "id": "8caaa137",
   "metadata": {},
   "outputs": [
    {
     "data": {
      "text/html": [
       "<div>\n",
       "<style scoped>\n",
       "    .dataframe tbody tr th:only-of-type {\n",
       "        vertical-align: middle;\n",
       "    }\n",
       "\n",
       "    .dataframe tbody tr th {\n",
       "        vertical-align: top;\n",
       "    }\n",
       "\n",
       "    .dataframe thead th {\n",
       "        text-align: right;\n",
       "    }\n",
       "</style>\n",
       "<table border=\"1\" class=\"dataframe\">\n",
       "  <thead>\n",
       "    <tr style=\"text-align: right;\">\n",
       "      <th></th>\n",
       "      <th>tractID</th>\n",
       "      <th>nodeID</th>\n",
       "      <th>dti_fa</th>\n",
       "      <th>dti_md</th>\n",
       "      <th>dti_rd</th>\n",
       "      <th>dti_ad</th>\n",
       "      <th>subject</th>\n",
       "      <th>sessionID</th>\n",
       "      <th>subjectID</th>\n",
       "    </tr>\n",
       "  </thead>\n",
       "  <tbody>\n",
       "    <tr>\n",
       "      <th>0</th>\n",
       "      <td>ATR_L</td>\n",
       "      <td>0</td>\n",
       "      <td>0.211710</td>\n",
       "      <td>0.000746</td>\n",
       "      <td>0.000663</td>\n",
       "      <td>0.000913</td>\n",
       "      <td>sub-LD4063</td>\n",
       "      <td>1</td>\n",
       "      <td>sub-LD4063ses1</td>\n",
       "    </tr>\n",
       "    <tr>\n",
       "      <th>1</th>\n",
       "      <td>ATR_L</td>\n",
       "      <td>1</td>\n",
       "      <td>0.242015</td>\n",
       "      <td>0.000731</td>\n",
       "      <td>0.000637</td>\n",
       "      <td>0.000921</td>\n",
       "      <td>sub-LD4063</td>\n",
       "      <td>1</td>\n",
       "      <td>sub-LD4063ses1</td>\n",
       "    </tr>\n",
       "    <tr>\n",
       "      <th>2</th>\n",
       "      <td>ATR_L</td>\n",
       "      <td>2</td>\n",
       "      <td>0.264670</td>\n",
       "      <td>0.000720</td>\n",
       "      <td>0.000617</td>\n",
       "      <td>0.000926</td>\n",
       "      <td>sub-LD4063</td>\n",
       "      <td>1</td>\n",
       "      <td>sub-LD4063ses1</td>\n",
       "    </tr>\n",
       "    <tr>\n",
       "      <th>3</th>\n",
       "      <td>ATR_L</td>\n",
       "      <td>3</td>\n",
       "      <td>0.281407</td>\n",
       "      <td>0.000711</td>\n",
       "      <td>0.000603</td>\n",
       "      <td>0.000926</td>\n",
       "      <td>sub-LD4063</td>\n",
       "      <td>1</td>\n",
       "      <td>sub-LD4063ses1</td>\n",
       "    </tr>\n",
       "    <tr>\n",
       "      <th>4</th>\n",
       "      <td>ATR_L</td>\n",
       "      <td>4</td>\n",
       "      <td>0.288651</td>\n",
       "      <td>0.000704</td>\n",
       "      <td>0.000596</td>\n",
       "      <td>0.000921</td>\n",
       "      <td>sub-LD4063</td>\n",
       "      <td>1</td>\n",
       "      <td>sub-LD4063ses1</td>\n",
       "    </tr>\n",
       "  </tbody>\n",
       "</table>\n",
       "</div>"
      ],
      "text/plain": [
       "  tractID  nodeID    dti_fa    dti_md    dti_rd    dti_ad     subject  \\\n",
       "0   ATR_L       0  0.211710  0.000746  0.000663  0.000913  sub-LD4063   \n",
       "1   ATR_L       1  0.242015  0.000731  0.000637  0.000921  sub-LD4063   \n",
       "2   ATR_L       2  0.264670  0.000720  0.000617  0.000926  sub-LD4063   \n",
       "3   ATR_L       3  0.281407  0.000711  0.000603  0.000926  sub-LD4063   \n",
       "4   ATR_L       4  0.288651  0.000704  0.000596  0.000921  sub-LD4063   \n",
       "\n",
       "  sessionID       subjectID  \n",
       "0         1  sub-LD4063ses1  \n",
       "1         1  sub-LD4063ses1  \n",
       "2         1  sub-LD4063ses1  \n",
       "3         1  sub-LD4063ses1  \n",
       "4         1  sub-LD4063ses1  "
      ]
     },
     "execution_count": 35,
     "metadata": {},
     "output_type": "execute_result"
    }
   ],
   "source": [
    "combined_profiles_df = combined_profiles_df.rename(columns={'subjectID':'subject'})\n",
    "combined_profiles_df['subject'] = 'sub-'+combined_profiles_df['subject']\n",
    "combined_profiles_df['subjectID'] = combined_profiles_df['subject']+'ses'+combined_profiles_df['sessionID']\n",
    "\n"
   ]
  },
  {
   "cell_type": "code",
   "execution_count": 36,
   "id": "d3bc7e80",
   "metadata": {},
   "outputs": [],
   "source": [
    "combined_profiles_df.to_csv('/scratch/users/ethanroy/longitudinal_vanderbilt_colab/input_fmap_rev/derivatives/qsirecon/combined_tract_profiles_rev.csv')\n"
   ]
  }
 ],
 "metadata": {
  "kernelspec": {
   "display_name": "Python [conda env:pyafq_eng]",
   "language": "python",
   "name": "conda-env-pyafq_eng-py"
  },
  "language_info": {
   "codemirror_mode": {
    "name": "ipython",
    "version": 3
   },
   "file_extension": ".py",
   "mimetype": "text/x-python",
   "name": "python",
   "nbconvert_exporter": "python",
   "pygments_lexer": "ipython3",
   "version": "3.9.16"
  }
 },
 "nbformat": 4,
 "nbformat_minor": 5
}
